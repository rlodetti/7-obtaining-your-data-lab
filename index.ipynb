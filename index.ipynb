{
 "cells": [
  {
   "cell_type": "markdown",
   "metadata": {},
   "source": [
    "# Obtaining Your Data - Lab"
   ]
  },
  {
   "cell_type": "markdown",
   "metadata": {},
   "source": [
    "## Introduction\n",
    "In this lab you'll practice your munging and transforming skills in order to load in your data to solve a regression problem."
   ]
  },
  {
   "cell_type": "markdown",
   "metadata": {},
   "source": [
    "## Objectives\n",
    "You will be able to:\n",
    "* Perform an ETL process with multiple tables and create a single dataset"
   ]
  },
  {
   "cell_type": "markdown",
   "metadata": {},
   "source": [
    "## Task Description\n",
    "\n",
    "You just got hired by Lego! Your first project is going to be to develop a pricing algorithm to help set a target price for new lego sets that are released to market. To do this, you're first going to need to start mining the company database in order to collect the information you need to develop a model.\n",
    "\n",
    "Start by investigating the database stored in lego.db and joining the tables into a unified dataset!\n",
    "\n",
    "> **Hint:** use this SQL query to preview the tables in an unknown database:\n",
    "```sql\n",
    "SELECT name FROM sqlite_master\n",
    "            WHERE type='table'\n",
    "            ORDER BY name;\n",
    "```"
   ]
  },
  {
   "cell_type": "code",
   "execution_count": 1,
   "metadata": {
    "ExecuteTime": {
     "end_time": "2023-05-20T16:25:10.072130Z",
     "start_time": "2023-05-20T16:25:09.414566Z"
    }
   },
   "outputs": [],
   "source": [
    "import sqlite3\n",
    "import pandas as pd"
   ]
  },
  {
   "cell_type": "code",
   "execution_count": 4,
   "metadata": {
    "ExecuteTime": {
     "end_time": "2023-05-20T16:27:19.090702Z",
     "start_time": "2023-05-20T16:27:19.086989Z"
    }
   },
   "outputs": [],
   "source": [
    "conn = sqlite3.connect('lego.db')"
   ]
  },
  {
   "cell_type": "code",
   "execution_count": 14,
   "metadata": {
    "ExecuteTime": {
     "end_time": "2023-05-20T16:42:57.176042Z",
     "start_time": "2023-05-20T16:42:57.157749Z"
    }
   },
   "outputs": [
    {
     "data": {
      "text/html": [
       "<div>\n",
       "<style scoped>\n",
       "    .dataframe tbody tr th:only-of-type {\n",
       "        vertical-align: middle;\n",
       "    }\n",
       "\n",
       "    .dataframe tbody tr th {\n",
       "        vertical-align: top;\n",
       "    }\n",
       "\n",
       "    .dataframe thead th {\n",
       "        text-align: right;\n",
       "    }\n",
       "</style>\n",
       "<table border=\"1\" class=\"dataframe\">\n",
       "  <thead>\n",
       "    <tr style=\"text-align: right;\">\n",
       "      <th></th>\n",
       "      <th>type</th>\n",
       "      <th>name</th>\n",
       "      <th>tbl_name</th>\n",
       "      <th>rootpage</th>\n",
       "      <th>sql</th>\n",
       "    </tr>\n",
       "  </thead>\n",
       "  <tbody>\n",
       "    <tr>\n",
       "      <th>0</th>\n",
       "      <td>table</td>\n",
       "      <td>product_info</td>\n",
       "      <td>product_info</td>\n",
       "      <td>2</td>\n",
       "      <td>CREATE TABLE product_info (prod_id INTEGER PRI...</td>\n",
       "    </tr>\n",
       "    <tr>\n",
       "      <th>1</th>\n",
       "      <td>table</td>\n",
       "      <td>product_pricing</td>\n",
       "      <td>product_pricing</td>\n",
       "      <td>3</td>\n",
       "      <td>CREATE TABLE product_pricing (prod_id INTEGER ...</td>\n",
       "    </tr>\n",
       "    <tr>\n",
       "      <th>2</th>\n",
       "      <td>index</td>\n",
       "      <td>sqlite_autoindex_product_pricing_1</td>\n",
       "      <td>product_pricing</td>\n",
       "      <td>4</td>\n",
       "      <td>None</td>\n",
       "    </tr>\n",
       "    <tr>\n",
       "      <th>3</th>\n",
       "      <td>table</td>\n",
       "      <td>product_details</td>\n",
       "      <td>product_details</td>\n",
       "      <td>5</td>\n",
       "      <td>CREATE TABLE product_details (prod_id INTEGER ...</td>\n",
       "    </tr>\n",
       "    <tr>\n",
       "      <th>4</th>\n",
       "      <td>table</td>\n",
       "      <td>product_reviews</td>\n",
       "      <td>product_reviews</td>\n",
       "      <td>6</td>\n",
       "      <td>CREATE TABLE product_reviews (prod_id INTEGER ...</td>\n",
       "    </tr>\n",
       "  </tbody>\n",
       "</table>\n",
       "</div>"
      ],
      "text/plain": [
       "    type                                name         tbl_name  rootpage  \\\n",
       "0  table                        product_info     product_info         2   \n",
       "1  table                     product_pricing  product_pricing         3   \n",
       "2  index  sqlite_autoindex_product_pricing_1  product_pricing         4   \n",
       "3  table                     product_details  product_details         5   \n",
       "4  table                     product_reviews  product_reviews         6   \n",
       "\n",
       "                                                 sql  \n",
       "0  CREATE TABLE product_info (prod_id INTEGER PRI...  \n",
       "1  CREATE TABLE product_pricing (prod_id INTEGER ...  \n",
       "2                                               None  \n",
       "3  CREATE TABLE product_details (prod_id INTEGER ...  \n",
       "4  CREATE TABLE product_reviews (prod_id INTEGER ...  "
      ]
     },
     "execution_count": 14,
     "metadata": {},
     "output_type": "execute_result"
    }
   ],
   "source": [
    "q0 = \"\"\"\n",
    "SELECT *\n",
    "FROM sqlite_master\n",
    ";\n",
    "\"\"\"\n",
    "pd.read_sql(q0, conn)"
   ]
  },
  {
   "cell_type": "code",
   "execution_count": 13,
   "metadata": {
    "ExecuteTime": {
     "end_time": "2023-05-20T16:41:09.741644Z",
     "start_time": "2023-05-20T16:41:09.728579Z"
    }
   },
   "outputs": [
    {
     "data": {
      "text/html": [
       "<div>\n",
       "<style scoped>\n",
       "    .dataframe tbody tr th:only-of-type {\n",
       "        vertical-align: middle;\n",
       "    }\n",
       "\n",
       "    .dataframe tbody tr th {\n",
       "        vertical-align: top;\n",
       "    }\n",
       "\n",
       "    .dataframe thead th {\n",
       "        text-align: right;\n",
       "    }\n",
       "</style>\n",
       "<table border=\"1\" class=\"dataframe\">\n",
       "  <thead>\n",
       "    <tr style=\"text-align: right;\">\n",
       "      <th></th>\n",
       "      <th>prod_id</th>\n",
       "      <th>prod_desc</th>\n",
       "      <th>prod_long_desc</th>\n",
       "      <th>theme_name</th>\n",
       "    </tr>\n",
       "  </thead>\n",
       "  <tbody>\n",
       "    <tr>\n",
       "      <th>0</th>\n",
       "      <td>630</td>\n",
       "      <td>blah</td>\n",
       "      <td>blahblah</td>\n",
       "      <td>Classic</td>\n",
       "    </tr>\n",
       "  </tbody>\n",
       "</table>\n",
       "</div>"
      ],
      "text/plain": [
       "   prod_id prod_desc prod_long_desc theme_name\n",
       "0      630      blah       blahblah    Classic"
      ]
     },
     "execution_count": 13,
     "metadata": {},
     "output_type": "execute_result"
    }
   ],
   "source": [
    "q0 = \"\"\"\n",
    "SELECT *\n",
    "FROM product_details\n",
    "WHERE prod_id=630;\n",
    "\"\"\"\n",
    "pd.read_sql(q0, conn)"
   ]
  },
  {
   "cell_type": "code",
   "execution_count": 12,
   "metadata": {
    "ExecuteTime": {
     "end_time": "2023-05-20T16:41:01.494231Z",
     "start_time": "2023-05-20T16:41:01.477058Z"
    }
   },
   "outputs": [
    {
     "data": {
      "text/html": [
       "<div>\n",
       "<style scoped>\n",
       "    .dataframe tbody tr th:only-of-type {\n",
       "        vertical-align: middle;\n",
       "    }\n",
       "\n",
       "    .dataframe tbody tr th {\n",
       "        vertical-align: top;\n",
       "    }\n",
       "\n",
       "    .dataframe thead th {\n",
       "        text-align: right;\n",
       "    }\n",
       "</style>\n",
       "<table border=\"1\" class=\"dataframe\">\n",
       "  <thead>\n",
       "    <tr style=\"text-align: right;\">\n",
       "      <th></th>\n",
       "      <th>prod_id</th>\n",
       "      <th>ages</th>\n",
       "      <th>piece_count</th>\n",
       "      <th>set_name</th>\n",
       "    </tr>\n",
       "  </thead>\n",
       "  <tbody>\n",
       "    <tr>\n",
       "      <th>0</th>\n",
       "      <td>630</td>\n",
       "      <td>4+</td>\n",
       "      <td>1</td>\n",
       "      <td>Brick Separator</td>\n",
       "    </tr>\n",
       "  </tbody>\n",
       "</table>\n",
       "</div>"
      ],
      "text/plain": [
       "   prod_id ages  piece_count         set_name\n",
       "0      630   4+            1  Brick Separator"
      ]
     },
     "execution_count": 12,
     "metadata": {},
     "output_type": "execute_result"
    }
   ],
   "source": [
    "q0 = \"\"\"\n",
    "SELECT *\n",
    "FROM product_info\n",
    "WHERE prod_id=630;\n",
    "\"\"\"\n",
    "pd.read_sql(q0, conn)"
   ]
  },
  {
   "cell_type": "code",
   "execution_count": 10,
   "metadata": {
    "ExecuteTime": {
     "end_time": "2023-05-20T16:40:49.144108Z",
     "start_time": "2023-05-20T16:40:49.126684Z"
    }
   },
   "outputs": [
    {
     "data": {
      "text/html": [
       "<div>\n",
       "<style scoped>\n",
       "    .dataframe tbody tr th:only-of-type {\n",
       "        vertical-align: middle;\n",
       "    }\n",
       "\n",
       "    .dataframe tbody tr th {\n",
       "        vertical-align: top;\n",
       "    }\n",
       "\n",
       "    .dataframe thead th {\n",
       "        text-align: right;\n",
       "    }\n",
       "</style>\n",
       "<table border=\"1\" class=\"dataframe\">\n",
       "  <thead>\n",
       "    <tr style=\"text-align: right;\">\n",
       "      <th></th>\n",
       "      <th>prod_id</th>\n",
       "      <th>country</th>\n",
       "      <th>list_price</th>\n",
       "    </tr>\n",
       "  </thead>\n",
       "  <tbody>\n",
       "    <tr>\n",
       "      <th>0</th>\n",
       "      <td>630</td>\n",
       "      <td>AT</td>\n",
       "      <td>3.0378000000000003</td>\n",
       "    </tr>\n",
       "    <tr>\n",
       "      <th>1</th>\n",
       "      <td>630</td>\n",
       "      <td>AU</td>\n",
       "      <td>2.2724</td>\n",
       "    </tr>\n",
       "    <tr>\n",
       "      <th>2</th>\n",
       "      <td>630</td>\n",
       "      <td>BE</td>\n",
       "      <td>3.0378000000000003</td>\n",
       "    </tr>\n",
       "    <tr>\n",
       "      <th>3</th>\n",
       "      <td>630</td>\n",
       "      <td>CA</td>\n",
       "      <td>2.3322000000000003</td>\n",
       "    </tr>\n",
       "    <tr>\n",
       "      <th>4</th>\n",
       "      <td>630</td>\n",
       "      <td>CH</td>\n",
       "      <td>2.958</td>\n",
       "    </tr>\n",
       "    <tr>\n",
       "      <th>5</th>\n",
       "      <td>630</td>\n",
       "      <td>CZ</td>\n",
       "      <td>3.3120000000000003</td>\n",
       "    </tr>\n",
       "    <tr>\n",
       "      <th>6</th>\n",
       "      <td>630</td>\n",
       "      <td>DE</td>\n",
       "      <td>3.0378000000000003</td>\n",
       "    </tr>\n",
       "    <tr>\n",
       "      <th>7</th>\n",
       "      <td>630</td>\n",
       "      <td>DN</td>\n",
       "      <td>2.4</td>\n",
       "    </tr>\n",
       "    <tr>\n",
       "      <th>8</th>\n",
       "      <td>630</td>\n",
       "      <td>ES</td>\n",
       "      <td>3.0378000000000003</td>\n",
       "    </tr>\n",
       "    <tr>\n",
       "      <th>9</th>\n",
       "      <td>630</td>\n",
       "      <td>FI</td>\n",
       "      <td>3.599</td>\n",
       "    </tr>\n",
       "    <tr>\n",
       "      <th>10</th>\n",
       "      <td>630</td>\n",
       "      <td>FR</td>\n",
       "      <td>3.0378000000000003</td>\n",
       "    </tr>\n",
       "    <tr>\n",
       "      <th>11</th>\n",
       "      <td>630</td>\n",
       "      <td>GB</td>\n",
       "      <td>2.786</td>\n",
       "    </tr>\n",
       "    <tr>\n",
       "      <th>12</th>\n",
       "      <td>630</td>\n",
       "      <td>IE</td>\n",
       "      <td>3.0378000000000003</td>\n",
       "    </tr>\n",
       "    <tr>\n",
       "      <th>13</th>\n",
       "      <td>630</td>\n",
       "      <td>IT</td>\n",
       "      <td>3.0378000000000003</td>\n",
       "    </tr>\n",
       "    <tr>\n",
       "      <th>14</th>\n",
       "      <td>630</td>\n",
       "      <td>LU</td>\n",
       "      <td>3.0378000000000003</td>\n",
       "    </tr>\n",
       "    <tr>\n",
       "      <th>15</th>\n",
       "      <td>630</td>\n",
       "      <td>NL</td>\n",
       "      <td>3.0378000000000003</td>\n",
       "    </tr>\n",
       "    <tr>\n",
       "      <th>16</th>\n",
       "      <td>630</td>\n",
       "      <td>NO</td>\n",
       "      <td>3.12</td>\n",
       "    </tr>\n",
       "    <tr>\n",
       "      <th>17</th>\n",
       "      <td>630</td>\n",
       "      <td>NZ</td>\n",
       "      <td>3.5429</td>\n",
       "    </tr>\n",
       "    <tr>\n",
       "      <th>18</th>\n",
       "      <td>630</td>\n",
       "      <td>PL</td>\n",
       "      <td>2.8971</td>\n",
       "    </tr>\n",
       "    <tr>\n",
       "      <th>19</th>\n",
       "      <td>630</td>\n",
       "      <td>PT</td>\n",
       "      <td>3.0378000000000003</td>\n",
       "    </tr>\n",
       "    <tr>\n",
       "      <th>20</th>\n",
       "      <td>630</td>\n",
       "      <td>US</td>\n",
       "      <td>2.49</td>\n",
       "    </tr>\n",
       "  </tbody>\n",
       "</table>\n",
       "</div>"
      ],
      "text/plain": [
       "    prod_id country          list_price\n",
       "0       630      AT  3.0378000000000003\n",
       "1       630      AU              2.2724\n",
       "2       630      BE  3.0378000000000003\n",
       "3       630      CA  2.3322000000000003\n",
       "4       630      CH               2.958\n",
       "5       630      CZ  3.3120000000000003\n",
       "6       630      DE  3.0378000000000003\n",
       "7       630      DN                 2.4\n",
       "8       630      ES  3.0378000000000003\n",
       "9       630      FI               3.599\n",
       "10      630      FR  3.0378000000000003\n",
       "11      630      GB               2.786\n",
       "12      630      IE  3.0378000000000003\n",
       "13      630      IT  3.0378000000000003\n",
       "14      630      LU  3.0378000000000003\n",
       "15      630      NL  3.0378000000000003\n",
       "16      630      NO                3.12\n",
       "17      630      NZ              3.5429\n",
       "18      630      PL              2.8971\n",
       "19      630      PT  3.0378000000000003\n",
       "20      630      US                2.49"
      ]
     },
     "execution_count": 10,
     "metadata": {},
     "output_type": "execute_result"
    }
   ],
   "source": [
    "q0 = \"\"\"\n",
    "SELECT *\n",
    "FROM product_pricing\n",
    "WHERE prod_id=630;\n",
    "\"\"\"\n",
    "pd.read_sql(q0, conn)"
   ]
  },
  {
   "cell_type": "code",
   "execution_count": 11,
   "metadata": {
    "ExecuteTime": {
     "end_time": "2023-05-20T16:40:54.342046Z",
     "start_time": "2023-05-20T16:40:54.329677Z"
    }
   },
   "outputs": [
    {
     "data": {
      "text/html": [
       "<div>\n",
       "<style scoped>\n",
       "    .dataframe tbody tr th:only-of-type {\n",
       "        vertical-align: middle;\n",
       "    }\n",
       "\n",
       "    .dataframe tbody tr th {\n",
       "        vertical-align: top;\n",
       "    }\n",
       "\n",
       "    .dataframe thead th {\n",
       "        text-align: right;\n",
       "    }\n",
       "</style>\n",
       "<table border=\"1\" class=\"dataframe\">\n",
       "  <thead>\n",
       "    <tr style=\"text-align: right;\">\n",
       "      <th></th>\n",
       "      <th>prod_id</th>\n",
       "      <th>num_reviews</th>\n",
       "      <th>play_star_rating</th>\n",
       "      <th>review_difficulty</th>\n",
       "      <th>star_rating</th>\n",
       "      <th>val_star_rating</th>\n",
       "    </tr>\n",
       "  </thead>\n",
       "  <tbody>\n",
       "    <tr>\n",
       "      <th>0</th>\n",
       "      <td>630</td>\n",
       "      <td>180</td>\n",
       "      <td>4.0</td>\n",
       "      <td>Very Easy</td>\n",
       "      <td>4.8</td>\n",
       "      <td>4.6</td>\n",
       "    </tr>\n",
       "  </tbody>\n",
       "</table>\n",
       "</div>"
      ],
      "text/plain": [
       "   prod_id  num_reviews  play_star_rating review_difficulty  star_rating  \\\n",
       "0      630          180               4.0         Very Easy          4.8   \n",
       "\n",
       "   val_star_rating  \n",
       "0              4.6  "
      ]
     },
     "execution_count": 11,
     "metadata": {},
     "output_type": "execute_result"
    }
   ],
   "source": [
    "q0 = \"\"\"\n",
    "SELECT *\n",
    "FROM product_reviews\n",
    "WHERE prod_id=630;\n",
    "\"\"\"\n",
    "pd.read_sql(q0, conn)"
   ]
  },
  {
   "cell_type": "code",
   "execution_count": null,
   "metadata": {},
   "outputs": [],
   "source": []
  },
  {
   "cell_type": "markdown",
   "metadata": {},
   "source": [
    "## Summary\n",
    "Nice work! You're working more and more independently through the workflow and ensuring data integrity! In this lab, you successfully executed an ETL process to merge different tables!"
   ]
  }
 ],
 "metadata": {
  "kernelspec": {
   "display_name": "Python (learn-env3)",
   "language": "python",
   "name": "learn-env3"
  },
  "language_info": {
   "codemirror_mode": {
    "name": "ipython",
    "version": 3
   },
   "file_extension": ".py",
   "mimetype": "text/x-python",
   "name": "python",
   "nbconvert_exporter": "python",
   "pygments_lexer": "ipython3",
   "version": "3.8.5"
  }
 },
 "nbformat": 4,
 "nbformat_minor": 2
}
